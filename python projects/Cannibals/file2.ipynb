{
 "cells": [
  {
   "cell_type": "code",
   "execution_count": 19,
   "metadata": {},
   "outputs": [],
   "source": [
    "boat_side=\"Right\"\n",
    "missionaries_on_right=4\n",
    "cannibals_on_right=4\n",
    "missionaries_on_left=0\n",
    "cannibals_on_left=0"
   ]
  },
  {
   "cell_type": "code",
   "execution_count": 20,
   "metadata": {},
   "outputs": [
    {
     "name": "stdout",
     "output_type": "stream",
     "text": [
      "M= 0 C= 0 |--------B| M= 3 C= 3\n"
     ]
    }
   ],
   "source": [
    "print('M=',missionaries_on_left ,\"C=\", cannibals_on_left,\"|--------B|\",\"M=\",missionaries_on_right,\"C=\",cannibals_on_right)"
   ]
  },
  {
   "cell_type": "code",
   "execution_count": 21,
   "metadata": {},
   "outputs": [],
   "source": [
    "missionaries=int(input(\"enter the number of missionaries to be drafted\"))\n",
    "cannibals=int(input(\"enter the number of cannibals to be drafted\"))"
   ]
  },
  {
   "cell_type": "code",
   "execution_count": 22,
   "metadata": {},
   "outputs": [
    {
     "name": "stdout",
     "output_type": "stream",
     "text": [
      "Invalid Move\n"
     ]
    }
   ],
   "source": [
    "if (missionaries + cannibals) != 1 and (missionaries + cannibals) != 2:\n",
    "    print(\"Invalid Move\")"
   ]
  },
  {
   "cell_type": "code",
   "execution_count": 10,
   "metadata": {},
   "outputs": [
    {
     "name": "stdout",
     "output_type": "stream",
     "text": [
      "Boat is at the right side\n"
     ]
    }
   ],
   "source": [
    "if boat_side == \"Right\":\n",
    "    print(\"Boat is at the right side\")\n",
    "else:\n",
    "    print(\"Boat is at left side\")"
   ]
  },
  {
   "cell_type": "code",
   "execution_count": 11,
   "metadata": {},
   "outputs": [],
   "source": [
    "if missionaries_on_right < missionaries or cannibals_on_right < cannibals:\n",
    "    print(\"Invalid Move\")"
   ]
  },
  {
   "cell_type": "code",
   "execution_count": 12,
   "metadata": {},
   "outputs": [],
   "source": [
    "missionaries_on_right=missionaries_on_right-missionaries\n",
    "cannibals_on_right=cannibals_on_right-cannibals"
   ]
  },
  {
   "cell_type": "code",
   "execution_count": 13,
   "metadata": {},
   "outputs": [],
   "source": [
    "missionaries_on_left +=missionaries\n",
    "cannibals_on_left +=cannibals"
   ]
  },
  {
   "cell_type": "code",
   "execution_count": 14,
   "metadata": {},
   "outputs": [
    {
     "name": "stdout",
     "output_type": "stream",
     "text": [
      "M= 2 C= 2 |B---------| M= 1 C= 1\n"
     ]
    }
   ],
   "source": [
    "print(\"M=\",missionaries_on_left,\"C=\",cannibals_on_left,\"|B---------|\",\"M=\",missionaries_on_right,\"C=\",cannibals_on_right)"
   ]
  },
  {
   "cell_type": "code",
   "execution_count": 15,
   "metadata": {},
   "outputs": [],
   "source": [
    "if missionaries_on_left < missionaries or cannibals_on_left < cannibals:\n",
    "    print(\"Invalid Move\")"
   ]
  },
  {
   "cell_type": "code",
   "execution_count": 16,
   "metadata": {},
   "outputs": [],
   "source": [
    "missionaries_on_left=missionaries_on_left-missionaries\n",
    "cannibals_on_left=cannibals_on_left-cannibals"
   ]
  }
 ],
 "metadata": {
  "kernelspec": {
   "display_name": "Python 3",
   "language": "python",
   "name": "python3"
  },
  "language_info": {
   "codemirror_mode": {
    "name": "ipython",
    "version": 3
   },
   "file_extension": ".py",
   "mimetype": "text/x-python",
   "name": "python",
   "nbconvert_exporter": "python",
   "pygments_lexer": "ipython3",
   "version": "3.11.4"
  }
 },
 "nbformat": 4,
 "nbformat_minor": 2
}
